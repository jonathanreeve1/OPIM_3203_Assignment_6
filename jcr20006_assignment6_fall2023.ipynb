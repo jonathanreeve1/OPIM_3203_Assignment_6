{
  "nbformat": 4,
  "nbformat_minor": 0,
  "metadata": {
    "colab": {
      "provenance": []
    },
    "kernelspec": {
      "name": "python3",
      "display_name": "Python 3"
    },
    "language_info": {
      "name": "python"
    }
  },
  "cells": [
    {
      "cell_type": "markdown",
      "source": [
        "# OPIM 3203 - Assignment 6\n",
        "\n",
        "Instruction and Objective\n",
        "-\tThis is Assignment 6 of OPIM 3203.\n",
        "- There is one file you need to download from the HuskyCT course website: the starter netid_assignment6_fall2023.ipynb file (this file), which also includes all instructions.\n",
        "- You will be asked to conduct text analytics on hotel_review_tripadvisor_data.csv. It stores data about hotel reviews in a text format from Tripadvisor platform.\n",
        "- hotel_review_tripadvisor_data.csv can be accessed through the link: https://drive.google.com/uc?id=1R60WMCTnD2zaoNqn0PWseSlKwel09H46 ; It has been edited and its data was collected from https://www.kaggle.com/datasets/andrewmvd/trip-advisor-hotel-reviews.\n",
        "- You need to edit this .ipynb file in Google Colab (or your own Python programming environment), replace '...', and then insert your code. Your code must be executable for the grader. Therefore, please make sure to wipe out '...' before you insert your code.\n",
        "- You don't need to add any Python comments in code cells to explain your code.\n",
        "- In some cells of this file, you will be asked to insert some results after you run the code you inserted. Again, please first remove '...' and then insert your results.\n",
        "- At the end of this file, you will be asked to rename this .ipynb file with netid appropriately replaced. Please upload the renamed file with your code and results to the HuskyCT course website.\n",
        "-\tIf you do not know how to complete one of the steps, try to complete the rest of the assignment using the data you have.\n",
        "-\tYou are welcome to use any resource to help you complete the assignment.\n",
        "-\tTotal points: 100 points + 3 bonus points"
      ],
      "metadata": {
        "id": "Pq0Kv6PpLM2w"
      }
    },
    {
      "cell_type": "code",
      "source": [],
      "metadata": {
        "id": "2_nImthCLfKT"
      },
      "execution_count": null,
      "outputs": []
    },
    {
      "cell_type": "markdown",
      "source": [
        "## Question 1. (28 points in total) Reading and exploring the data about hotel reviews\n",
        "\n",
        "Question 1 contains tasks 1a through 1j that you need to complete."
      ],
      "metadata": {
        "id": "KaRYxZyeUqI3"
      }
    },
    {
      "cell_type": "code",
      "source": [
        "# 1a. (1 point) Write Python code in this code cell\n",
        "# to import the pandas library\n",
        "\n",
        "# Also run this code cell after the code is completed\n",
        "# to make sure that the library is imported.\n",
        "\n",
        "import pandas as pd"
      ],
      "metadata": {
        "id": "qrOj7zpYOJ98"
      },
      "execution_count": null,
      "outputs": []
    },
    {
      "cell_type": "code",
      "source": [
        "# The NLTK library is needed for this assignment.\n",
        "# Please run this code cell to import the NLTK library,\n",
        "# and install essential components,\n",
        "# including 'punkt' and 'stopwords' in NLTK,\n",
        "# in order to complete certain tasks in this assignment.\n",
        "import nltk\n",
        "nltk.download('punkt')\n",
        "nltk.download('stopwords')"
      ],
      "metadata": {
        "id": "oPX9ZJQEOLVz",
        "colab": {
          "base_uri": "https://localhost:8080/"
        },
        "outputId": "4b4719af-3a2c-4adf-be9c-70adef7d77ef"
      },
      "execution_count": null,
      "outputs": [
        {
          "output_type": "stream",
          "name": "stderr",
          "text": [
            "[nltk_data] Downloading package punkt to /root/nltk_data...\n",
            "[nltk_data]   Unzipping tokenizers/punkt.zip.\n",
            "[nltk_data] Downloading package stopwords to /root/nltk_data...\n",
            "[nltk_data]   Unzipping corpora/stopwords.zip.\n"
          ]
        },
        {
          "output_type": "execute_result",
          "data": {
            "text/plain": [
              "True"
            ]
          },
          "metadata": {},
          "execution_count": 2
        }
      ]
    },
    {
      "cell_type": "code",
      "source": [
        "# 1b. (2 points) Write Python code in this code cell\n",
        "# to use the pandas library to read the content from the csv file,\n",
        "# hotel_review_tripadvisor_data.csv, which can be downloaded through the link:\n",
        "# https://drive.google.com/uc?id=1R60WMCTnD2zaoNqn0PWseSlKwel09H46\n",
        "# and assign the content of the file to a DataFrame variable called hotel_review_tripadvisor_df.\n",
        "\n",
        "# Also run this code cell after the code is completed\n",
        "# so that the desired DataFrame gets the data from the csv file.\n",
        "# And make sure that you execute the code cell above about importing the pandas library\n",
        "# before running this code cell.\n",
        "\n",
        "link = 'https://drive.google.com/uc?id=1R60WMCTnD2zaoNqn0PWseSlKwel09H46'\n",
        "hotel_review_tripadvisor_df = pd.read_csv(link)"
      ],
      "metadata": {
        "id": "RR454NElOP40"
      },
      "execution_count": null,
      "outputs": []
    },
    {
      "cell_type": "code",
      "source": [
        "# 1c. (2 points) Write Python code in this code cell\n",
        "# to show the first 5 rows of the DataFrame hotel_review_tripadvisor_df.\n",
        "\n",
        "# Also run this code cell after the code is completed.\n",
        "# Make sure that you execute the code cells above about generating the DataFrame hotel_review_tripadvisor_df\n",
        "# before running this code cell.\n",
        "\n",
        "hotel_review_tripadvisor_df.head()"
      ],
      "metadata": {
        "id": "IH3NkG-rQqn1",
        "colab": {
          "base_uri": "https://localhost:8080/",
          "height": 206
        },
        "outputId": "f3ede358-110e-4297-a1d9-10d88cd37458"
      },
      "execution_count": null,
      "outputs": [
        {
          "output_type": "execute_result",
          "data": {
            "text/plain": [
              "   text_id                                               text\n",
              "0    10001  In Cancun, we discovered some stunning beaches...\n",
              "1    10002  I thoroughly enjoyed my time at the hotel. The...\n",
              "2    10003  This location made it easy to access various s...\n",
              "3    10004  benjamin great choice, stayed benjamin april 2...\n",
              "4    10005  peaceful stayed room 7 september wonderful sta..."
            ],
            "text/html": [
              "\n",
              "  <div id=\"df-89e483ad-53cc-4001-8239-45d1a4c003df\" class=\"colab-df-container\">\n",
              "    <div>\n",
              "<style scoped>\n",
              "    .dataframe tbody tr th:only-of-type {\n",
              "        vertical-align: middle;\n",
              "    }\n",
              "\n",
              "    .dataframe tbody tr th {\n",
              "        vertical-align: top;\n",
              "    }\n",
              "\n",
              "    .dataframe thead th {\n",
              "        text-align: right;\n",
              "    }\n",
              "</style>\n",
              "<table border=\"1\" class=\"dataframe\">\n",
              "  <thead>\n",
              "    <tr style=\"text-align: right;\">\n",
              "      <th></th>\n",
              "      <th>text_id</th>\n",
              "      <th>text</th>\n",
              "    </tr>\n",
              "  </thead>\n",
              "  <tbody>\n",
              "    <tr>\n",
              "      <th>0</th>\n",
              "      <td>10001</td>\n",
              "      <td>In Cancun, we discovered some stunning beaches...</td>\n",
              "    </tr>\n",
              "    <tr>\n",
              "      <th>1</th>\n",
              "      <td>10002</td>\n",
              "      <td>I thoroughly enjoyed my time at the hotel. The...</td>\n",
              "    </tr>\n",
              "    <tr>\n",
              "      <th>2</th>\n",
              "      <td>10003</td>\n",
              "      <td>This location made it easy to access various s...</td>\n",
              "    </tr>\n",
              "    <tr>\n",
              "      <th>3</th>\n",
              "      <td>10004</td>\n",
              "      <td>benjamin great choice, stayed benjamin april 2...</td>\n",
              "    </tr>\n",
              "    <tr>\n",
              "      <th>4</th>\n",
              "      <td>10005</td>\n",
              "      <td>peaceful stayed room 7 september wonderful sta...</td>\n",
              "    </tr>\n",
              "  </tbody>\n",
              "</table>\n",
              "</div>\n",
              "    <div class=\"colab-df-buttons\">\n",
              "\n",
              "  <div class=\"colab-df-container\">\n",
              "    <button class=\"colab-df-convert\" onclick=\"convertToInteractive('df-89e483ad-53cc-4001-8239-45d1a4c003df')\"\n",
              "            title=\"Convert this dataframe to an interactive table.\"\n",
              "            style=\"display:none;\">\n",
              "\n",
              "  <svg xmlns=\"http://www.w3.org/2000/svg\" height=\"24px\" viewBox=\"0 -960 960 960\">\n",
              "    <path d=\"M120-120v-720h720v720H120Zm60-500h600v-160H180v160Zm220 220h160v-160H400v160Zm0 220h160v-160H400v160ZM180-400h160v-160H180v160Zm440 0h160v-160H620v160ZM180-180h160v-160H180v160Zm440 0h160v-160H620v160Z\"/>\n",
              "  </svg>\n",
              "    </button>\n",
              "\n",
              "  <style>\n",
              "    .colab-df-container {\n",
              "      display:flex;\n",
              "      gap: 12px;\n",
              "    }\n",
              "\n",
              "    .colab-df-convert {\n",
              "      background-color: #E8F0FE;\n",
              "      border: none;\n",
              "      border-radius: 50%;\n",
              "      cursor: pointer;\n",
              "      display: none;\n",
              "      fill: #1967D2;\n",
              "      height: 32px;\n",
              "      padding: 0 0 0 0;\n",
              "      width: 32px;\n",
              "    }\n",
              "\n",
              "    .colab-df-convert:hover {\n",
              "      background-color: #E2EBFA;\n",
              "      box-shadow: 0px 1px 2px rgba(60, 64, 67, 0.3), 0px 1px 3px 1px rgba(60, 64, 67, 0.15);\n",
              "      fill: #174EA6;\n",
              "    }\n",
              "\n",
              "    .colab-df-buttons div {\n",
              "      margin-bottom: 4px;\n",
              "    }\n",
              "\n",
              "    [theme=dark] .colab-df-convert {\n",
              "      background-color: #3B4455;\n",
              "      fill: #D2E3FC;\n",
              "    }\n",
              "\n",
              "    [theme=dark] .colab-df-convert:hover {\n",
              "      background-color: #434B5C;\n",
              "      box-shadow: 0px 1px 3px 1px rgba(0, 0, 0, 0.15);\n",
              "      filter: drop-shadow(0px 1px 2px rgba(0, 0, 0, 0.3));\n",
              "      fill: #FFFFFF;\n",
              "    }\n",
              "  </style>\n",
              "\n",
              "    <script>\n",
              "      const buttonEl =\n",
              "        document.querySelector('#df-89e483ad-53cc-4001-8239-45d1a4c003df button.colab-df-convert');\n",
              "      buttonEl.style.display =\n",
              "        google.colab.kernel.accessAllowed ? 'block' : 'none';\n",
              "\n",
              "      async function convertToInteractive(key) {\n",
              "        const element = document.querySelector('#df-89e483ad-53cc-4001-8239-45d1a4c003df');\n",
              "        const dataTable =\n",
              "          await google.colab.kernel.invokeFunction('convertToInteractive',\n",
              "                                                    [key], {});\n",
              "        if (!dataTable) return;\n",
              "\n",
              "        const docLinkHtml = 'Like what you see? Visit the ' +\n",
              "          '<a target=\"_blank\" href=https://colab.research.google.com/notebooks/data_table.ipynb>data table notebook</a>'\n",
              "          + ' to learn more about interactive tables.';\n",
              "        element.innerHTML = '';\n",
              "        dataTable['output_type'] = 'display_data';\n",
              "        await google.colab.output.renderOutput(dataTable, element);\n",
              "        const docLink = document.createElement('div');\n",
              "        docLink.innerHTML = docLinkHtml;\n",
              "        element.appendChild(docLink);\n",
              "      }\n",
              "    </script>\n",
              "  </div>\n",
              "\n",
              "\n",
              "<div id=\"df-860bf842-59ad-4b8e-a96b-557268ff27ab\">\n",
              "  <button class=\"colab-df-quickchart\" onclick=\"quickchart('df-860bf842-59ad-4b8e-a96b-557268ff27ab')\"\n",
              "            title=\"Suggest charts\"\n",
              "            style=\"display:none;\">\n",
              "\n",
              "<svg xmlns=\"http://www.w3.org/2000/svg\" height=\"24px\"viewBox=\"0 0 24 24\"\n",
              "     width=\"24px\">\n",
              "    <g>\n",
              "        <path d=\"M19 3H5c-1.1 0-2 .9-2 2v14c0 1.1.9 2 2 2h14c1.1 0 2-.9 2-2V5c0-1.1-.9-2-2-2zM9 17H7v-7h2v7zm4 0h-2V7h2v10zm4 0h-2v-4h2v4z\"/>\n",
              "    </g>\n",
              "</svg>\n",
              "  </button>\n",
              "\n",
              "<style>\n",
              "  .colab-df-quickchart {\n",
              "      --bg-color: #E8F0FE;\n",
              "      --fill-color: #1967D2;\n",
              "      --hover-bg-color: #E2EBFA;\n",
              "      --hover-fill-color: #174EA6;\n",
              "      --disabled-fill-color: #AAA;\n",
              "      --disabled-bg-color: #DDD;\n",
              "  }\n",
              "\n",
              "  [theme=dark] .colab-df-quickchart {\n",
              "      --bg-color: #3B4455;\n",
              "      --fill-color: #D2E3FC;\n",
              "      --hover-bg-color: #434B5C;\n",
              "      --hover-fill-color: #FFFFFF;\n",
              "      --disabled-bg-color: #3B4455;\n",
              "      --disabled-fill-color: #666;\n",
              "  }\n",
              "\n",
              "  .colab-df-quickchart {\n",
              "    background-color: var(--bg-color);\n",
              "    border: none;\n",
              "    border-radius: 50%;\n",
              "    cursor: pointer;\n",
              "    display: none;\n",
              "    fill: var(--fill-color);\n",
              "    height: 32px;\n",
              "    padding: 0;\n",
              "    width: 32px;\n",
              "  }\n",
              "\n",
              "  .colab-df-quickchart:hover {\n",
              "    background-color: var(--hover-bg-color);\n",
              "    box-shadow: 0 1px 2px rgba(60, 64, 67, 0.3), 0 1px 3px 1px rgba(60, 64, 67, 0.15);\n",
              "    fill: var(--button-hover-fill-color);\n",
              "  }\n",
              "\n",
              "  .colab-df-quickchart-complete:disabled,\n",
              "  .colab-df-quickchart-complete:disabled:hover {\n",
              "    background-color: var(--disabled-bg-color);\n",
              "    fill: var(--disabled-fill-color);\n",
              "    box-shadow: none;\n",
              "  }\n",
              "\n",
              "  .colab-df-spinner {\n",
              "    border: 2px solid var(--fill-color);\n",
              "    border-color: transparent;\n",
              "    border-bottom-color: var(--fill-color);\n",
              "    animation:\n",
              "      spin 1s steps(1) infinite;\n",
              "  }\n",
              "\n",
              "  @keyframes spin {\n",
              "    0% {\n",
              "      border-color: transparent;\n",
              "      border-bottom-color: var(--fill-color);\n",
              "      border-left-color: var(--fill-color);\n",
              "    }\n",
              "    20% {\n",
              "      border-color: transparent;\n",
              "      border-left-color: var(--fill-color);\n",
              "      border-top-color: var(--fill-color);\n",
              "    }\n",
              "    30% {\n",
              "      border-color: transparent;\n",
              "      border-left-color: var(--fill-color);\n",
              "      border-top-color: var(--fill-color);\n",
              "      border-right-color: var(--fill-color);\n",
              "    }\n",
              "    40% {\n",
              "      border-color: transparent;\n",
              "      border-right-color: var(--fill-color);\n",
              "      border-top-color: var(--fill-color);\n",
              "    }\n",
              "    60% {\n",
              "      border-color: transparent;\n",
              "      border-right-color: var(--fill-color);\n",
              "    }\n",
              "    80% {\n",
              "      border-color: transparent;\n",
              "      border-right-color: var(--fill-color);\n",
              "      border-bottom-color: var(--fill-color);\n",
              "    }\n",
              "    90% {\n",
              "      border-color: transparent;\n",
              "      border-bottom-color: var(--fill-color);\n",
              "    }\n",
              "  }\n",
              "</style>\n",
              "\n",
              "  <script>\n",
              "    async function quickchart(key) {\n",
              "      const quickchartButtonEl =\n",
              "        document.querySelector('#' + key + ' button');\n",
              "      quickchartButtonEl.disabled = true;  // To prevent multiple clicks.\n",
              "      quickchartButtonEl.classList.add('colab-df-spinner');\n",
              "      try {\n",
              "        const charts = await google.colab.kernel.invokeFunction(\n",
              "            'suggestCharts', [key], {});\n",
              "      } catch (error) {\n",
              "        console.error('Error during call to suggestCharts:', error);\n",
              "      }\n",
              "      quickchartButtonEl.classList.remove('colab-df-spinner');\n",
              "      quickchartButtonEl.classList.add('colab-df-quickchart-complete');\n",
              "    }\n",
              "    (() => {\n",
              "      let quickchartButtonEl =\n",
              "        document.querySelector('#df-860bf842-59ad-4b8e-a96b-557268ff27ab button');\n",
              "      quickchartButtonEl.style.display =\n",
              "        google.colab.kernel.accessAllowed ? 'block' : 'none';\n",
              "    })();\n",
              "  </script>\n",
              "</div>\n",
              "    </div>\n",
              "  </div>\n"
            ]
          },
          "metadata": {},
          "execution_count": 4
        }
      ]
    },
    {
      "cell_type": "code",
      "source": [
        "# 1d. (4 points) Write Python code in this code cell\n",
        "# to show the total number of rows and columns in the DataFrame hotel_review_tripadvisor_df.\n",
        "\n",
        "# Also run this code cell after the code is completed.\n",
        "# Make sure that you execute the code cells above about generating the DataFrame hotel_review_tripadvisor_df\n",
        "# before running this code cell.\n",
        "hotel_review_tripadvisor_df.shape"
      ],
      "metadata": {
        "id": "sIZ1VtygQr_l",
        "colab": {
          "base_uri": "https://localhost:8080/"
        },
        "outputId": "14e40c45-e097-4004-d4c4-5b8efcda3ac2"
      },
      "execution_count": null,
      "outputs": [
        {
          "output_type": "execute_result",
          "data": {
            "text/plain": [
              "(2000, 2)"
            ]
          },
          "metadata": {},
          "execution_count": 5
        }
      ]
    },
    {
      "cell_type": "code",
      "source": [
        "# Your result\n",
        "# The DataFrame hotel_review_tripadvisor_df has 2000 rows and 2 columns"
      ],
      "metadata": {
        "id": "UYTMpILBQs_M"
      },
      "execution_count": null,
      "outputs": []
    },
    {
      "cell_type": "code",
      "source": [
        "# 1e. (4 points) Write Python code in this code cell\n",
        "# to get the first text in the text column of the DataFrame hotel_review_tripadvisor_df,\n",
        "# and assign the text value to a variable called first_text\n",
        "\n",
        "# Also run this code cell after the code is completed.\n",
        "# Make sure that you execute the code cells above about generating the DataFrame hotel_review_tripadvisor_df\n",
        "# before running this code cell.\n",
        "\n",
        "first_text = hotel_review_tripadvisor_df[\"text\"].iloc[0]"
      ],
      "metadata": {
        "id": "mvQ-Q_ViQxi1"
      },
      "execution_count": null,
      "outputs": []
    },
    {
      "cell_type": "code",
      "source": [
        "# 1f. (2 points) Similarly, write Python code in this code cell\n",
        "# to get the second text in the text column of the DataFrame hotel_review_tripadvisor_df,\n",
        "# and assign the text value to a variable called second_text\n",
        "\n",
        "# Also run this code cell after the code is completed.\n",
        "# Make sure that you execute the code cells above about generating the DataFrame hotel_review_tripadvisor_df\n",
        "# before running this code cell.\n",
        "\n",
        "second_text = hotel_review_tripadvisor_df[\"text\"].iloc[1]"
      ],
      "metadata": {
        "id": "LsopgGFAQ35G"
      },
      "execution_count": null,
      "outputs": []
    },
    {
      "cell_type": "code",
      "source": [
        "# 1g. (2 points) Similarly, write Python code in this code cell\n",
        "# to get the third text in the text column of the DataFrame hotel_review_tripadvisor_df,\n",
        "# and assign the text value to a variable called third_text\n",
        "\n",
        "# Also run this code cell after the code is completed.\n",
        "# Make sure that you execute the code cells above about generating the DataFrame hotel_review_tripadvisor_df\n",
        "# before running this code cell.\n",
        "\n",
        "third_text = hotel_review_tripadvisor_df[\"text\"].iloc[2]"
      ],
      "metadata": {
        "id": "Qc7bDtGrRv7Y"
      },
      "execution_count": null,
      "outputs": []
    },
    {
      "cell_type": "code",
      "source": [
        "# 1h. (3 points) Write Python code in this code cell\n",
        "# to place first_text, second_text, and third_text into a list,\n",
        "# and assign the list to a variable called list_three_text\n",
        "\n",
        "# Also run this code cell after the code is completed.\n",
        "# Make sure that you execute the code cells above about generating first_text, second_text, and third_text\n",
        "# before running this code cell.\n",
        "\n",
        "list_three_text = [first_text, second_text, third_text]\n",
        "list_three_text"
      ],
      "metadata": {
        "id": "xNapEFwlQ5FM",
        "colab": {
          "base_uri": "https://localhost:8080/"
        },
        "outputId": "c1472f93-4991-462c-c6fc-8e973f9f6c93"
      },
      "execution_count": null,
      "outputs": [
        {
          "output_type": "execute_result",
          "data": {
            "text/plain": [
              "['In Cancun, we discovered some stunning beaches as well. Our stay in Spain was equally enjoyable. Throughout our travels, we encountered friendly and helpful hotel staff. The bartenders were especially friendly and fun-loving, always quick to serve with a smile. I really enjoyed there!',\n",
              " 'I thoroughly enjoyed my time at the hotel. The ambiance of the lobby, accompanied by the soothing piano music, created a warm and inviting atmosphere, even on cold nights. The spacious room provided a comfortable space for a good sleep. ',\n",
              " 'This location made it easy to access various shops, restaurants, and even fast food places, which was incredibly handy for quick shopping or a bite to eat. All in all, the Royal Plaza Hotel provides excellent value for the money. I totally enjoyed my time there!']"
            ]
          },
          "metadata": {},
          "execution_count": 9
        }
      ]
    },
    {
      "cell_type": "code",
      "source": [
        "# 1i. (4 points) Write Python code in this code cell\n",
        "# to use the join method to combine the three texts in list_three_text,\n",
        "# with a space as the separator.\n",
        "# Assign the combined text to a variable called combined_text\n",
        "\n",
        "# Also run this code cell after the code is completed.\n",
        "# Make sure that you execute the code cells above about generating list_three_text\n",
        "# before running this code cell.\n",
        "\n",
        "combined_text = \" \".join(list_three_text)"
      ],
      "metadata": {
        "id": "Vriq3JpXQ6l9"
      },
      "execution_count": null,
      "outputs": []
    },
    {
      "cell_type": "code",
      "source": [
        "# 1j. (4 points) Write Python code in this code cell\n",
        "# to get the number of characters in the string or text stored in the variable combined_text\n",
        "\n",
        "# Also run this code cell after the code is completed.\n",
        "# Make sure that you execute the code cells above about generating combined_text\n",
        "# before running this code cell.\n",
        "\n",
        "len(combined_text)"
      ],
      "metadata": {
        "id": "y1T0Ms4hQ8hk",
        "colab": {
          "base_uri": "https://localhost:8080/"
        },
        "outputId": "734a9394-6f74-4552-b341-d55875b8b1d1"
      },
      "execution_count": null,
      "outputs": [
        {
          "output_type": "execute_result",
          "data": {
            "text/plain": [
              "786"
            ]
          },
          "metadata": {},
          "execution_count": 11
        }
      ]
    },
    {
      "cell_type": "code",
      "source": [],
      "metadata": {
        "id": "keWULcneSG5Y"
      },
      "execution_count": null,
      "outputs": []
    },
    {
      "cell_type": "markdown",
      "source": [
        "## Question 2. (13 points in total) Sentiment analysis\n",
        "\n",
        "Question 2 contains tasks 2a through 2c that you need to complete.\n"
      ],
      "metadata": {
        "id": "4bkHXsuMsFKt"
      }
    },
    {
      "cell_type": "code",
      "source": [
        "# You need to perform sentiment analysis using the VADER approach\n",
        "# on the text stored in the variable combined_text.\n",
        "# Run this code cell before conducting the analysis\n",
        "# and the variable sent_analyzer should be generated.\n",
        "\n",
        "import nltk\n",
        "# Download the lexicon\n",
        "nltk.download(\"vader_lexicon\")\n",
        "\n",
        "# Create a SentimentIntensityAnalyzer object\n",
        "from nltk.sentiment.vader import SentimentIntensityAnalyzer\n",
        "sent_analyzer = SentimentIntensityAnalyzer()"
      ],
      "metadata": {
        "id": "PfzznqWiSGy6",
        "colab": {
          "base_uri": "https://localhost:8080/"
        },
        "outputId": "00fab4cf-d696-49f0-f407-b8e9af2d4f82"
      },
      "execution_count": null,
      "outputs": [
        {
          "output_type": "stream",
          "name": "stderr",
          "text": [
            "[nltk_data] Downloading package vader_lexicon to /root/nltk_data...\n"
          ]
        }
      ]
    },
    {
      "cell_type": "code",
      "source": [
        "# 2a. (4 points) Write Python code in this code cell\n",
        "# to analyze the sentiment of the text stored in the variable combined_text.\n",
        "# You can use the polarity_scores() method of the analyzer stored in the variable sent_analyzer.\n",
        "# The resulting scores should be stored in a variable called sentiment_scores.\n",
        "\n",
        "# Also run this code cell after the code is completed.\n",
        "# Make sure that you execute the code cells above\n",
        "# about generating the variable sent_analyzer and the variable combined_text\n",
        "# before running this code cell.\n",
        "\n",
        "sentiment_scores = sent_analyzer.polarity_scores(combined_text)"
      ],
      "metadata": {
        "id": "GbhghCAHRBA-"
      },
      "execution_count": null,
      "outputs": []
    },
    {
      "cell_type": "code",
      "source": [
        "# 2b. (7 points) Write Python code in this code cell\n",
        "# to determine the overall sentiment label.\n",
        "# The resulting sentiment label should be stored in a variable called sentiment_label.\n",
        "\n",
        "# If the compound score in the variable sentiment_scores is greater than or equal to 0.05,\n",
        "# the sentiment is considered positive (i.e., sentiment_label = 'Positive').\n",
        "# If it's less than or equal to -0.05, it's considered negative (i.e., sentiment_label = 'Negative').\n",
        "# Otherwise, it's considered neutral (i.e., sentiment_label = 'Neutral').\n",
        "\n",
        "# Also run this code cell after the code is completed.\n",
        "# Make sure that you execute the code cells above about generating the variable sentiment_scores\n",
        "# before running this code cell.\n",
        "\n",
        "if sentiment_scores['compound'] >= 0.05:\n",
        "  sentiment_label = 'Positive'\n",
        "elif sentiment_scores['compound'] <= -0.05:\n",
        "  sentiment_label = 'Negative'\n",
        "else:\n",
        "  sentiment_label = 'Neutral'"
      ],
      "metadata": {
        "id": "z5sj3F_xRCwM"
      },
      "execution_count": null,
      "outputs": []
    },
    {
      "cell_type": "code",
      "source": [
        "# 2c. (2 points) Write Python code in this code cell\n",
        "# to print the overall sentiment label stored in the variable sentiment_label.\n",
        "\n",
        "# Also run this code cell after the code is completed.\n",
        "# Make sure that you execute the code cells above about generating the variable sentiment_label\n",
        "# before running this code cell.\n",
        "\n",
        "print(\"Sentiment:\", sentiment_label)"
      ],
      "metadata": {
        "id": "SVFkezFySRdJ",
        "colab": {
          "base_uri": "https://localhost:8080/"
        },
        "outputId": "13dfef00-b255-4ac5-f156-5e2b1cecf305"
      },
      "execution_count": null,
      "outputs": [
        {
          "output_type": "stream",
          "name": "stdout",
          "text": [
            "Sentiment: Positive\n"
          ]
        }
      ]
    },
    {
      "cell_type": "code",
      "source": [],
      "metadata": {
        "id": "JHKiyVFlSb8b"
      },
      "execution_count": null,
      "outputs": []
    },
    {
      "cell_type": "markdown",
      "source": [
        "## Question 3. (39 points + 3 bonus points in total) Processing texts and generating a Word Cloud\n",
        "\n",
        "Question 3 contains tasks 3a through 3i that you need to complete."
      ],
      "metadata": {
        "id": "iU52N2AdtoIy"
      }
    },
    {
      "cell_type": "code",
      "source": [
        "# 3a. (4 points) Write Python code in this code cell\n",
        "# to convert all characters in the text stored in the variable combined_text to lowercase,\n",
        "# and assign the resulting lowercase text to a variable called combined_text_lower\n",
        "\n",
        "# Also run this code cell after the code is completed.\n",
        "# Make sure that you execute the code cells above about generating the variable combined_text\n",
        "# before running this code cell.\n",
        "\n",
        "combined_text_lower = combined_text.lower()"
      ],
      "metadata": {
        "id": "yW0_baUWRFEe"
      },
      "execution_count": null,
      "outputs": []
    },
    {
      "cell_type": "code",
      "source": [
        "# 3b. (6 points) Write Python code in this code cell\n",
        "# to import the string module,\n",
        "# remove punctuation in the text stored in the variable combined_text_lower\n",
        "# and assign the resulting lowercase text without punctuation\n",
        "# to the variable called combined_text_lower_no_punct\n",
        "\n",
        "# Also run this code cell after the code is completed.\n",
        "# Make sure that you execute the code cells above about generating the variable combined_text_lower\n",
        "# before running this code cell.\n",
        "\n",
        "import string\n",
        "translator = str.maketrans('', '', string.punctuation)\n",
        "combined_text_lower_no_punct = combined_text_lower.translate(translator)"
      ],
      "metadata": {
        "id": "Vd3qGaH6RGWN"
      },
      "execution_count": null,
      "outputs": []
    },
    {
      "cell_type": "code",
      "source": [
        "# 3c. (4 points)  Write Python code in this code cell\n",
        "# to conduct word tokenization on the text stored in the variable combined_text_lower_no_punct,\n",
        "# and assign the tokenized word result to a variable called list_word\n",
        "\n",
        "# Also run this code cell after the code is completed.\n",
        "# Make sure that you execute the code cells above\n",
        "# about generating the variable combined_text_lower_no_punct and importing the NLTK library\n",
        "# before running this code cell.\n",
        "\n",
        "list_word = nltk.word_tokenize(combined_text_lower_no_punct)"
      ],
      "metadata": {
        "id": "vTULZ4kERI2-"
      },
      "execution_count": null,
      "outputs": []
    },
    {
      "cell_type": "code",
      "source": [],
      "metadata": {
        "id": "RT8LD3cZr0dl"
      },
      "execution_count": null,
      "outputs": []
    },
    {
      "cell_type": "code",
      "source": [
        "# 3d. (3 bonus points) Write Python code in this code cell\n",
        "# to conduct part-of-speech tagging on the text\n",
        "# that can be represented by its tokenized words stored in the variable list_word\n",
        "\n",
        "# Also run this code cell after the code is completed.\n",
        "# Make sure that you execute the code cells above\n",
        "# about generating the variable list_word and importing the NLTK library\n",
        "# before running this code cell.\n",
        "\n",
        "import nltk\n",
        "nltk.download('punkt')\n",
        "nltk.download('stopwords')\n",
        "nltk.download('averaged_perceptron_tagger')\n",
        "nltk.download('tagsets')\n",
        "\n",
        "list_word = nltk.word_tokenize(combined_text)\n"
      ],
      "metadata": {
        "id": "2sExVzwWU2ms",
        "colab": {
          "base_uri": "https://localhost:8080/"
        },
        "outputId": "988ebe99-870d-483e-c4c7-aaf44958dd4e"
      },
      "execution_count": null,
      "outputs": [
        {
          "output_type": "stream",
          "name": "stderr",
          "text": [
            "[nltk_data] Downloading package punkt to /root/nltk_data...\n",
            "[nltk_data]   Package punkt is already up-to-date!\n",
            "[nltk_data] Downloading package stopwords to /root/nltk_data...\n",
            "[nltk_data]   Package stopwords is already up-to-date!\n",
            "[nltk_data] Downloading package averaged_perceptron_tagger to\n",
            "[nltk_data]     /root/nltk_data...\n",
            "[nltk_data]   Package averaged_perceptron_tagger is already up-to-\n",
            "[nltk_data]       date!\n",
            "[nltk_data] Downloading package tagsets to /root/nltk_data...\n",
            "[nltk_data]   Package tagsets is already up-to-date!\n"
          ]
        }
      ]
    },
    {
      "cell_type": "code",
      "source": [],
      "metadata": {
        "id": "Yw04Mh0rr1oj"
      },
      "execution_count": null,
      "outputs": []
    },
    {
      "cell_type": "code",
      "source": [
        "# 3e. (8 points) Write Python code in this code cell\n",
        "# to remove stop words from a list of words stored in the variable list_word.\n",
        "# The resulting list of words without stop words\n",
        "# should be assigned to a new variable named list_word_no_stop_word\n",
        "\n",
        "# Also run this code cell after the code is completed.\n",
        "# Make sure that you execute the code cells above\n",
        "# about generating the variable list_word and importing the NLTK library\n",
        "# before running this code cell.\n",
        "\n",
        "list_stop_word = nltk.corpus.stopwords.words('english')\n",
        "list_word_no_stop_word = [word for word in list_word if word not in list_stop_word]"
      ],
      "metadata": {
        "id": "f1OUVnqERKDd"
      },
      "execution_count": null,
      "outputs": []
    },
    {
      "cell_type": "code",
      "source": [
        "# 3f. (2 points) Write Python code in this code cell\n",
        "# to get the number of words in the variable list_word_no_stop_word\n",
        "\n",
        "# Also run this code cell after the code is completed.\n",
        "# Make sure that you execute the code cells above about generating the variable list_word_no_stop_word\n",
        "# before running this code cell.\n",
        "\n",
        "len(list_word_no_stop_word)"
      ],
      "metadata": {
        "id": "HbYtS_VkV_Sw",
        "colab": {
          "base_uri": "https://localhost:8080/"
        },
        "outputId": "37a3f33e-b421-4a20-ccc4-0ec07aee6ae5"
      },
      "execution_count": 51,
      "outputs": [
        {
          "output_type": "execute_result",
          "data": {
            "text/plain": [
              "108"
            ]
          },
          "metadata": {},
          "execution_count": 51
        }
      ]
    },
    {
      "cell_type": "code",
      "source": [
        "# 3g. (4 points) Write Python code in this code cell\n",
        "# to calculate the frequency of words in a list of words stored in the variable list_word_no_stop_word.\n",
        "# You can use nltk.FreqDist for the calculation.\n",
        "# The resulting word frequency distribution result\n",
        "# should be stored in a variable named word_counts\n",
        "\n",
        "# Also run this code cell after the code is completed.\n",
        "# Make sure that you execute the code cells above\n",
        "# about generating the variable list_word_no_stop_word and importing the NLTK library\n",
        "# before running this code cell.\n",
        "\n",
        "word_counts = nltk.FreqDist(list_word_no_stop_word)"
      ],
      "metadata": {
        "id": "LfxSLC4wRLxm"
      },
      "execution_count": null,
      "outputs": []
    },
    {
      "cell_type": "code",
      "source": [
        "# 3h. (2 points) Then let's generate a word cloud plot.\n",
        "# Write Python code in this code cell\n",
        "# to import the wordcloud library, and matplotlib.pyplot\n",
        "\n",
        "# Also run this code cell after the code is completed\n",
        "# to make sure that the libraries are imported.\n",
        "\n",
        "import wordcloud\n",
        "import matplotlib.pyplot as plt"
      ],
      "metadata": {
        "id": "-yl5Rp_IRTO2"
      },
      "execution_count": null,
      "outputs": []
    },
    {
      "cell_type": "code",
      "source": [
        "# 3i. (9 points) Write Python code in this code cell\n",
        "# to generate a word cloud plot based on the word frequency distribution stored in the variable word_counts.\n",
        "# The resulting word cloud plot can visualize the words,\n",
        "# with the size of each word in the plot corresponding to its frequency.\n",
        "\n",
        "# Also run this code cell after the code is completed.\n",
        "# Make sure that you execute the code cells above\n",
        "# about generating the variable word_counts and importing libraries such as wordcloud and matplotlib.pyplot\n",
        "# before running this code cell.\n",
        "\n",
        "text_wordcloud = wordcloud.WordCloud(background_color='white').generate_from_frequencies(word_counts)\n",
        "\n",
        "# Plot the WordCloud image\n",
        "# Set up the figure for the plot\n",
        "plt.figure()\n",
        "# Display the generated word cloud image using the imshow function from the matplotlib.pyplot\n",
        "plt.imshow(text_wordcloud)\n",
        "# Turn off the axis numbers and ticks around the plot, which is common in word cloud visualizations\n",
        "plt.axis('off')\n",
        "# Show the plot on the screen\n",
        "plt.show()"
      ],
      "metadata": {
        "id": "hNqNVEVxOHY0",
        "colab": {
          "base_uri": "https://localhost:8080/",
          "height": 285
        },
        "outputId": "cdff7a15-f5fa-4df6-d4de-e2eee6e37424"
      },
      "execution_count": 53,
      "outputs": [
        {
          "output_type": "display_data",
          "data": {
            "text/plain": [
              "<Figure size 640x480 with 1 Axes>"
            ],
            "image/png": "[encoded data removed]"
          },
          "metadata": {}
        }
      ]
    },
    {
      "cell_type": "code",
      "source": [],
      "metadata": {
        "id": "MsI_1k1uUIbB"
      },
      "execution_count": null,
      "outputs": []
    },
    {
      "cell_type": "markdown",
      "source": [
        "## Question 4. (18 points in total) Filtering words\n",
        "\n",
        "Question 4 contains tasks 4a through 4c that you need to complete."
      ],
      "metadata": {
        "id": "81htXFr2uTCH"
      }
    },
    {
      "cell_type": "code",
      "source": [
        "# Finally, let's apply some word filtering using the variable list_word_no_stop_word\n",
        "# generated from the preceding code cells (see task 3e).\n",
        "# This variable contains a list of words."
      ],
      "metadata": {
        "id": "C5qk2dLbVwI3"
      },
      "execution_count": null,
      "outputs": []
    },
    {
      "cell_type": "code",
      "source": [
        "# 4a. (4 points) Write Python code in this code cell\n",
        "# to get a list containing words that are longer than 10 characters in the variable list_word_no_stop_word\n",
        "\n",
        "# Also run this code cell after the code is completed.\n",
        "# Make sure that you execute the code cells above about generating the variable list_word_no_stop_word\n",
        "# before running this code cell.\n",
        "\n",
        "[w for w in list_word_no_stop_word if len(w) > 10]"
      ],
      "metadata": {
        "id": "s0Cdn5QqWuHi",
        "colab": {
          "base_uri": "https://localhost:8080/"
        },
        "outputId": "787e3128-7eac-4c29-a627-089af524797b"
      },
      "execution_count": null,
      "outputs": [
        {
          "output_type": "execute_result",
          "data": {
            "text/plain": [
              "['encountered', 'accompanied', 'comfortable', 'restaurants']"
            ]
          },
          "metadata": {},
          "execution_count": 35
        }
      ]
    },
    {
      "cell_type": "code",
      "source": [
        "# 4b. (4 points) Write Python code in this code cell\n",
        "# to get a list containing words that start with the letter 't' in the variable list_word_no_stop_word\n",
        "\n",
        "# Also run this code cell after the code is completed.\n",
        "# Make sure that you execute the code cells above about generating the variable list_word_no_stop_word\n",
        "# before running this code cell.\n",
        "\n",
        "[w for w in list_word_no_stop_word if w.startswith('t')]"
      ],
      "metadata": {
        "id": "FTUjd1uQXAyM",
        "colab": {
          "base_uri": "https://localhost:8080/"
        },
        "outputId": "ed6058fe-19a9-4dff-e73e-ce3375c83f89"
      },
      "execution_count": null,
      "outputs": [
        {
          "output_type": "execute_result",
          "data": {
            "text/plain": [
              "['travels', 'thoroughly', 'time', 'totally', 'time']"
            ]
          },
          "metadata": {},
          "execution_count": 36
        }
      ]
    },
    {
      "cell_type": "code",
      "source": [
        "# 4c. (4 points) Write Python code in this code cell\n",
        "# to get a list containing words that end with the letter 't' in the variable list_word_no_stop_word\n",
        "\n",
        "# Also run this code cell after the code is completed.\n",
        "# Make sure that you execute the code cells above about generating the variable list_word_no_stop_word\n",
        "# before running this code cell.\n",
        "\n",
        "[w for w in list_word_no_stop_word if w.endswith('t')]"
      ],
      "metadata": {
        "id": "LllTNvOMUlkT",
        "colab": {
          "base_uri": "https://localhost:8080/"
        },
        "outputId": "c2dff31b-271e-401f-deae-2e77892c3f95"
      },
      "execution_count": null,
      "outputs": [
        {
          "output_type": "execute_result",
          "data": {
            "text/plain": [
              "['Throughout', 'fast', 'eat', 'excellent']"
            ]
          },
          "metadata": {},
          "execution_count": 37
        }
      ]
    },
    {
      "cell_type": "code",
      "source": [
        "# 4d. (4 points) Write Python code in this code cell\n",
        "# to get a list or a set containing unique words from the variable list_word_no_stop_word\n",
        "\n",
        "# Also run this code cell after the code is completed.\n",
        "# Make sure that you execute the code cells above about generating the variable list_word_no_stop_word\n",
        "# before running this code cell.\n",
        "\n",
        "set(list_word_no_stop_word)"
      ],
      "metadata": {
        "id": "DNHIEIiJXskW",
        "colab": {
          "base_uri": "https://localhost:8080/"
        },
        "outputId": "241cee07-45dd-4762-b5af-a8dbd7356d2c"
      },
      "execution_count": null,
      "outputs": [
        {
          "output_type": "execute_result",
          "data": {
            "text/plain": [
              "{'!',\n",
              " ',',\n",
              " '.',\n",
              " 'All',\n",
              " 'Cancun',\n",
              " 'Hotel',\n",
              " 'I',\n",
              " 'In',\n",
              " 'Our',\n",
              " 'Plaza',\n",
              " 'Royal',\n",
              " 'Spain',\n",
              " 'The',\n",
              " 'This',\n",
              " 'Throughout',\n",
              " 'access',\n",
              " 'accompanied',\n",
              " 'always',\n",
              " 'ambiance',\n",
              " 'atmosphere',\n",
              " 'bartenders',\n",
              " 'beaches',\n",
              " 'bite',\n",
              " 'cold',\n",
              " 'comfortable',\n",
              " 'created',\n",
              " 'discovered',\n",
              " 'easy',\n",
              " 'eat',\n",
              " 'encountered',\n",
              " 'enjoyable',\n",
              " 'enjoyed',\n",
              " 'equally',\n",
              " 'especially',\n",
              " 'even',\n",
              " 'excellent',\n",
              " 'fast',\n",
              " 'food',\n",
              " 'friendly',\n",
              " 'fun-loving',\n",
              " 'good',\n",
              " 'handy',\n",
              " 'helpful',\n",
              " 'hotel',\n",
              " 'incredibly',\n",
              " 'inviting',\n",
              " 'lobby',\n",
              " 'location',\n",
              " 'made',\n",
              " 'money',\n",
              " 'music',\n",
              " 'nights',\n",
              " 'piano',\n",
              " 'places',\n",
              " 'provided',\n",
              " 'provides',\n",
              " 'quick',\n",
              " 'really',\n",
              " 'restaurants',\n",
              " 'room',\n",
              " 'serve',\n",
              " 'shopping',\n",
              " 'shops',\n",
              " 'sleep',\n",
              " 'smile',\n",
              " 'soothing',\n",
              " 'space',\n",
              " 'spacious',\n",
              " 'staff',\n",
              " 'stay',\n",
              " 'stunning',\n",
              " 'thoroughly',\n",
              " 'time',\n",
              " 'totally',\n",
              " 'travels',\n",
              " 'value',\n",
              " 'various',\n",
              " 'warm',\n",
              " 'well'}"
            ]
          },
          "metadata": {},
          "execution_count": 38
        }
      ]
    },
    {
      "cell_type": "code",
      "source": [
        "# 4e. (2 points) Write Python code in this code cell\n",
        "# to get the number of unique words from the variable list_word_no_stop_word\n",
        "\n",
        "# Also run this code cell after the code is completed.\n",
        "# Make sure that you execute the code cells above about generating the variable list_word_no_stop_word\n",
        "# before running this code cell.\n",
        "\n",
        "len(set(list_word_no_stop_word))"
      ],
      "metadata": {
        "id": "cQrMQHhvX0IG",
        "colab": {
          "base_uri": "https://localhost:8080/"
        },
        "outputId": "1ae3c583-c49f-4fd6-f89b-d3963e8395bb"
      },
      "execution_count": null,
      "outputs": [
        {
          "output_type": "execute_result",
          "data": {
            "text/plain": [
              "79"
            ]
          },
          "metadata": {},
          "execution_count": 39
        }
      ]
    },
    {
      "cell_type": "code",
      "source": [],
      "metadata": {
        "id": "IvNWFN20QDbs"
      },
      "execution_count": null,
      "outputs": []
    },
    {
      "cell_type": "markdown",
      "source": [
        "## Question 5. (2 points in total) Submitting your work\n",
        "\n",
        "Question 5 contains task 5a that you need to complete."
      ],
      "metadata": {
        "id": "6en9RrUSuvlg"
      }
    },
    {
      "cell_type": "code",
      "source": [
        "# 5a. (2 points) Save your file as aaa00000_assignment6_fall2023.ipynb (where aaa00000 is your NetID).\n",
        "# Go back to Assignment 6 in the HuskyCT course website.\n",
        "# Please submit your completed file to HuskyCT to finish your assignment."
      ],
      "metadata": {
        "id": "VyZOrf8sQDTh"
      },
      "execution_count": null,
      "outputs": []
    }
  ]
}